{
 "cells": [
  {
   "cell_type": "code",
   "execution_count": 1,
   "metadata": {},
   "outputs": [],
   "source": [
    "#Step 1: Import important libraries  \n",
    "import requests               # To send HTTP requests to the GitHub API\n",
    "import pandas as pd           # To handle tabular data and CSV operations\n",
    "import time                   # To add delays and manage rate limits\n",
    "import os                     # To access environment variables\n",
    "from tqdm import tqdm         # To show a progress bar while the script runs"
   ]
  },
  {
   "cell_type": "code",
   "execution_count": 2,
   "metadata": {},
   "outputs": [],
   "source": [
    "# Step 2: Set up access to GitHub \n",
    "Token = os.getenv(\"GITHUB_PERSONAL_ACCESS_TOKEN\")  # Add your token here\n",
    "headers = {\n",
    "    \"Authorization\": f\"Bearer {Token}\",\n",
    "    \"Accept\": \"application/vnd.github+json\"\n",
    "}"
   ]
  },
  {
   "cell_type": "code",
   "execution_count": 3,
   "metadata": {},
   "outputs": [],
   "source": [
    "#Step 3: Define search parameters \n",
    "query = \"ehrQL+language:python+org:opensafely\"  # Search for ehrQL in Python files within OpenSafely org\n",
    "base_url = \"https://api.github.com/search/code\"\n",
    "per_page = 100       # GitHub max results per page\n",
    "max_pages = 5        # Adjust as needed\n",
    "exclude_keywords = ['documentation', 'research-template', 'tutorials']  # Repos to skip\n",
    "\n",
    "# Store unique repositories\n",
    "unique_repos = set()"
   ]
  },
  {
   "cell_type": "code",
   "execution_count": 5,
   "metadata": {},
   "outputs": [
    {
     "name": "stdout",
     "output_type": "stream",
     "text": [
      "Searching GitHub - Page 1\n",
      "Skipping repo: opensafely/documentation\n",
      "Skipping repo: opensafely/documentation\n",
      "Skipping repo: opensafely/research-template\n",
      "Searching GitHub - Page 2\n",
      "Searching GitHub - Page 3\n",
      "Skipping repo: opensafely/documentation\n",
      "Searching GitHub - Page 4\n",
      "Searching GitHub - Page 5\n",
      "No more results.\n"
     ]
    }
   ],
   "source": [
    "for page in range(1, max_pages + 1):\n",
    "    print(f\"Searching GitHub - Page {page}\")\n",
    "    url = f\"{base_url}?q={query}&per_page={per_page}&page={page}\"\n",
    "    response = requests.get(url, headers=headers)\n",
    "    \n",
    "    if response.status_code != 200:\n",
    "        print(f\"Error: {response.status_code} - {response.text}\")\n",
    "        break\n",
    "    \n",
    "    results = response.json().get(\"items\", [])\n",
    "    if not results:\n",
    "        print(\"No more results.\")\n",
    "        break\n",
    "\n",
    "    for item in results:\n",
    "        repo_name = item[\"repository\"][\"full_name\"]\n",
    "        if any(keyword in repo_name for keyword in exclude_keywords):\n",
    "            print(f\"Skipping repo: {repo_name}\")\n",
    "            continue\n",
    "        # Add repo to set (only unique repos are kept)\n",
    "        unique_repos.add(repo_name)\n",
    "    \n",
    "    time.sleep(1)"
   ]
  },
  {
   "cell_type": "code",
   "execution_count": 6,
   "metadata": {},
   "outputs": [
    {
     "name": "stdout",
     "output_type": "stream",
     "text": [
      "Found 65 unique repositories containing ehrQL code.\n",
      "Results saved to opensafely_ehrql_repos.csv\n"
     ]
    }
   ],
   "source": [
    "df = pd.DataFrame({\"Repository\": list(unique_repos)})\n",
    "df.to_csv(\"opensafely_ehrql_repos.csv\", index=False)\n",
    "print(f\"Found {len(unique_repos)} unique repositories containing ehrQL code.\")\n",
    "print(\"Results saved to opensafely_ehrql_repos.csv\")"
   ]
  },
  {
   "cell_type": "code",
   "execution_count": 7,
   "metadata": {},
   "outputs": [
    {
     "data": {
      "text/html": [
       "<div>\n",
       "<style scoped>\n",
       "    .dataframe tbody tr th:only-of-type {\n",
       "        vertical-align: middle;\n",
       "    }\n",
       "\n",
       "    .dataframe tbody tr th {\n",
       "        vertical-align: top;\n",
       "    }\n",
       "\n",
       "    .dataframe thead th {\n",
       "        text-align: right;\n",
       "    }\n",
       "</style>\n",
       "<table border=\"1\" class=\"dataframe\">\n",
       "  <thead>\n",
       "    <tr style=\"text-align: right;\">\n",
       "      <th></th>\n",
       "      <th>Repository</th>\n",
       "    </tr>\n",
       "  </thead>\n",
       "  <tbody>\n",
       "    <tr>\n",
       "      <th>0</th>\n",
       "      <td>opensafely/ehrql-workflow</td>\n",
       "    </tr>\n",
       "    <tr>\n",
       "      <th>1</th>\n",
       "      <td>opensafely/opioids-covid-research</td>\n",
       "    </tr>\n",
       "    <tr>\n",
       "      <th>2</th>\n",
       "      <td>opensafely/opioids-data-curation</td>\n",
       "    </tr>\n",
       "    <tr>\n",
       "      <th>3</th>\n",
       "      <td>opensafely/prophy_effects_Sotro_Molnup</td>\n",
       "    </tr>\n",
       "    <tr>\n",
       "      <th>4</th>\n",
       "      <td>opensafely/waiting-list</td>\n",
       "    </tr>\n",
       "    <tr>\n",
       "      <th>...</th>\n",
       "      <td>...</td>\n",
       "    </tr>\n",
       "    <tr>\n",
       "      <th>60</th>\n",
       "      <td>opensafely/dataset-definition-testing-examples</td>\n",
       "    </tr>\n",
       "    <tr>\n",
       "      <th>61</th>\n",
       "      <td>opensafely/dfms-covid19-new</td>\n",
       "    </tr>\n",
       "    <tr>\n",
       "      <th>62</th>\n",
       "      <td>opensafely/ehrql-tutorial</td>\n",
       "    </tr>\n",
       "    <tr>\n",
       "      <th>63</th>\n",
       "      <td>opensafely/metformin_covid</td>\n",
       "    </tr>\n",
       "    <tr>\n",
       "      <th>64</th>\n",
       "      <td>opensafely/digital-access-to-primary-care</td>\n",
       "    </tr>\n",
       "  </tbody>\n",
       "</table>\n",
       "<p>65 rows × 1 columns</p>\n",
       "</div>"
      ],
      "text/plain": [
       "                                        Repository\n",
       "0                        opensafely/ehrql-workflow\n",
       "1                opensafely/opioids-covid-research\n",
       "2                 opensafely/opioids-data-curation\n",
       "3           opensafely/prophy_effects_Sotro_Molnup\n",
       "4                          opensafely/waiting-list\n",
       "..                                             ...\n",
       "60  opensafely/dataset-definition-testing-examples\n",
       "61                     opensafely/dfms-covid19-new\n",
       "62                       opensafely/ehrql-tutorial\n",
       "63                      opensafely/metformin_covid\n",
       "64       opensafely/digital-access-to-primary-care\n",
       "\n",
       "[65 rows x 1 columns]"
      ]
     },
     "execution_count": 7,
     "metadata": {},
     "output_type": "execute_result"
    }
   ],
   "source": [
    "df"
   ]
  }
 ],
 "metadata": {
  "kernelspec": {
   "display_name": "venv",
   "language": "python",
   "name": "python3"
  },
  "language_info": {
   "codemirror_mode": {
    "name": "ipython",
    "version": 3
   },
   "file_extension": ".py",
   "mimetype": "text/x-python",
   "name": "python",
   "nbconvert_exporter": "python",
   "pygments_lexer": "ipython3",
   "version": "3.13.6"
  }
 },
 "nbformat": 4,
 "nbformat_minor": 2
}
